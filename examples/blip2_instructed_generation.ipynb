{
  "cells": [
    {
      "cell_type": "markdown",
      "metadata": {
        "id": "LkU8GcV_nwuh"
      },
      "source": [
        "#### Large RAM is required to load the larger models. Running on GPU can optimize inference speed."
      ]
    },
    {
      "cell_type": "code",
      "execution_count": null,
      "metadata": {
        "collapsed": true,
        "id": "veDq4bWqnwuj"
      },
      "outputs": [],
      "source": [
        "import sys\n",
        "if 'google.colab' in sys.modules:\n",
        "    print('Running in Colab.')\n",
        "    !pip3 install salesforce-lavis"
      ]
    },
    {
      "cell_type": "code",
      "execution_count": null,
      "metadata": {
        "id": "xK5d8O-hnwuk"
      },
      "outputs": [],
      "source": [
        "import torch\n",
        "from PIL import Image\n",
        "import requests\n",
        "from lavis.models import load_model_and_preprocess"
      ]
    },
    {
      "cell_type": "markdown",
      "metadata": {
        "id": "56F61H5Ynwuk"
      },
      "source": [
        "#### Load an example image"
      ]
    },
    {
      "cell_type": "code",
      "execution_count": null,
      "metadata": {
        "id": "gE5o_RzQnwuk"
      },
      "outputs": [],
      "source": [
        "img_url = 'https://storage.googleapis.com/sfr-vision-language-research/LAVIS/assets/merlion.png'\n",
        "raw_image = Image.open(requests.get(img_url, stream=True).raw).convert('RGB')\n",
        "display(raw_image.resize((596, 437)))"
      ]
    },
    {
      "cell_type": "code",
      "execution_count": null,
      "metadata": {
        "id": "MitsrpTunwul"
      },
      "outputs": [],
      "source": [
        "# setup device to use\n",
        "device = torch.device(\"cuda\") if torch.cuda.is_available() else \"cpu\"\n",
        "!nvidia-smi"
      ]
    },
    {
      "cell_type": "markdown",
      "metadata": {
        "id": "bgO8I0K-nwul"
      },
      "source": [
        "#### Load pretrained/finetuned BLIP2 captioning model"
      ]
    },
    {
      "cell_type": "code",
      "execution_count": null,
      "metadata": {
        "id": "ryBe22dKnwul"
      },
      "outputs": [],
      "source": [
        "# we associate a model with its preprocessors to make it easier for inference.\n",
        "model, vis_processors, _ = load_model_and_preprocess(\n",
        "    name=\"blip2_t5\", model_type=\"pretrain_flant5xxl\", is_eval=True, device=device\n",
        ")\n",
        "\n",
        "# Other available models:\n",
        "#\n",
        "# model, vis_processors, _ = load_model_and_preprocess(\n",
        "#     name=\"blip2_opt\", model_type=\"pretrain_opt2.7b\", is_eval=True, device=device\n",
        "# )\n",
        "# model, vis_processors, _ = load_model_and_preprocess(\n",
        "#     name=\"blip2_opt\", model_type=\"pretrain_opt6.7b\", is_eval=True, device=device\n",
        "# )\n",
        "# model, vis_processors, _ = load_model_and_preprocess(\n",
        "#     name=\"blip2_opt\", model_type=\"caption_coco_opt2.7b\", is_eval=True, device=device\n",
        "# )\n",
        "# model, vis_processors, _ = load_model_and_preprocess(\n",
        "#     name=\"blip2_opt\", model_type=\"caption_coco_opt6.7b\", is_eval=True, device=device\n",
        "# )\n",
        "#\n",
        "# model, vis_processors, _ = load_model_and_preprocess(\n",
        "#     name=\"blip2_t5\", model_type=\"pretrain_flant5xl\", is_eval=True, device=device\n",
        "# )\n",
        "#\n",
        "# model, vis_processors, _ = load_model_and_preprocess(\n",
        "#     name=\"blip2_t5\", model_type=\"caption_coco_flant5xl\", is_eval=True, device=device\n",
        "# )\n",
        "\n",
        "vis_processors.keys()"
      ]
    },
    {
      "cell_type": "markdown",
      "metadata": {
        "id": "fehMeZV4nwum"
      },
      "source": [
        "#### prepare the image as model input using the associated processors"
      ]
    },
    {
      "cell_type": "code",
      "execution_count": null,
      "metadata": {
        "id": "7jZzy9Hdnwum"
      },
      "outputs": [],
      "source": [
        "image = vis_processors[\"eval\"](raw_image).unsqueeze(0).to(device)"
      ]
    },
    {
      "cell_type": "markdown",
      "metadata": {
        "id": "zv1DHx-0nwum"
      },
      "source": [
        "#### generate caption using beam search"
      ]
    },
    {
      "cell_type": "code",
      "execution_count": null,
      "metadata": {
        "id": "eRq4wUUtnwum"
      },
      "outputs": [],
      "source": [
        "model.generate({\"image\": image})"
      ]
    },
    {
      "cell_type": "markdown",
      "metadata": {
        "id": "6CoZvFmPnwum"
      },
      "source": [
        "#### generate multiple captions using nucleus sampling"
      ]
    },
    {
      "cell_type": "code",
      "execution_count": null,
      "metadata": {
        "id": "1opbTYLxnwum"
      },
      "outputs": [],
      "source": [
        "# due to the non-determinstic nature of necleus sampling, you may get different captions.\n",
        "model.generate({\"image\": image}, use_nucleus_sampling=True, num_captions=3)"
      ]
    },
    {
      "cell_type": "markdown",
      "metadata": {
        "id": "UnEqx3YCnwum"
      },
      "source": [
        "#### instructed zero-shot vision-to-language generation"
      ]
    },
    {
      "cell_type": "code",
      "execution_count": null,
      "metadata": {
        "id": "aUfUVhJ3nwun",
        "outputId": "3e32ec98-1a9b-4dee-d59b-06d8fcbc4ca3"
      },
      "outputs": [
        {
          "data": {
            "text/plain": [
              "['singapore']"
            ]
          },
          "execution_count": 14,
          "metadata": {},
          "output_type": "execute_result"
        }
      ],
      "source": [
        "model.generate({\"image\": image, \"prompt\": \"Question: which city is this? Answer:\"})"
      ]
    },
    {
      "cell_type": "code",
      "execution_count": null,
      "metadata": {
        "id": "BPvz0T9znwun",
        "outputId": "5b3645c6-b07d-4288-fa73-0dbf7f433b1d"
      },
      "outputs": [
        {
          "data": {
            "text/plain": [
              "['it has a statue of a merlion']"
            ]
          },
          "execution_count": 15,
          "metadata": {},
          "output_type": "execute_result"
        }
      ],
      "source": [
        "model.generate({\n",
        "    \"image\": image,\n",
        "    \"prompt\": \"Question: which city is this? Answer: singapore. Question: why?\"})"
      ]
    },
    {
      "cell_type": "code",
      "execution_count": null,
      "metadata": {
        "id": "bF_b65Fbnwun",
        "outputId": "f1408593-e3f8-4b8e-a252-9554224f7c07"
      },
      "outputs": [
        {
          "name": "stdout",
          "output_type": "stream",
          "text": [
            "Question: which city is this? Answer: singapore. Question: why? Answer: it has a statue of a merlion. Question: where is the name merlion coming from? Answer:\n"
          ]
        }
      ],
      "source": [
        "context = [\n",
        "    (\"which city is this?\", \"singapore\"),\n",
        "    (\"why?\", \"it has a statue of a merlion\"),\n",
        "]\n",
        "question = \"where is the name merlion coming from?\"\n",
        "template = \"Question: {} Answer: {}.\"\n",
        "\n",
        "prompt = \" \".join([template.format(context[i][0], context[i][1]) for i in range(len(context))]) + \" Question: \" + question + \" Answer:\"\n",
        "\n",
        "print(prompt)"
      ]
    },
    {
      "cell_type": "code",
      "execution_count": null,
      "metadata": {
        "id": "4AHZ2KBZnwun",
        "outputId": "d0b400ec-65e2-49ae-948c-bd38768b96e7"
      },
      "outputs": [
        {
          "data": {
            "text/plain": [
              "['merlion is a portmanteau of mermaid and lion']"
            ]
          },
          "execution_count": 27,
          "metadata": {},
          "output_type": "execute_result"
        }
      ],
      "source": [
        "model.generate(\n",
        "    {\n",
        "    \"image\": image,\n",
        "    \"prompt\": prompt\n",
        "    },\n",
        "    use_nucleus_sampling=False,\n",
        ")"
      ]
    }
  ],
  "metadata": {
    "kernelspec": {
      "display_name": "Python 3 (ipykernel)",
      "language": "python",
      "name": "python3"
    },
    "language_info": {
      "codemirror_mode": {
        "name": "ipython",
        "version": 3
      },
      "file_extension": ".py",
      "mimetype": "text/x-python",
      "name": "python",
      "nbconvert_exporter": "python",
      "pygments_lexer": "ipython3",
      "version": "3.8.13"
    },
    "vscode": {
      "interpreter": {
        "hash": "d4d1e4263499bec80672ea0156c357c1ee493ec2b1c70f0acce89fc37c4a6abe"
      }
    },
    "colab": {
      "provenance": []
    }
  },
  "nbformat": 4,
  "nbformat_minor": 0
}